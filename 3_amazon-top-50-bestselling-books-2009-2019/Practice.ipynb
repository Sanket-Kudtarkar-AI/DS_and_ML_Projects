{
 "cells": [
  {
   "cell_type": "code",
   "execution_count": 48,
   "metadata": {
    "_cell_guid": "b1076dfc-b9ad-4769-8c92-a6c4dae69d19",
    "_kg_hide-input": true,
    "_kg_hide-output": true,
    "_uuid": "8f2839f25d086af736a60e9eeb907d3b93b6e0e5",
    "execution": {
     "iopub.execute_input": "2021-02-11T07:06:39.793920Z",
     "iopub.status.busy": "2021-02-11T07:06:39.793193Z",
     "iopub.status.idle": "2021-02-11T07:06:41.024097Z",
     "shell.execute_reply": "2021-02-11T07:06:41.025135Z"
    },
    "papermill": {
     "duration": 1.258787,
     "end_time": "2021-02-11T07:06:41.025637",
     "exception": false,
     "start_time": "2021-02-11T07:06:39.766850",
     "status": "completed"
    },
    "tags": []
   },
   "outputs": [],
   "source": [
    "import numpy as np # linear algebra\n",
    "import pandas as pd # data processing, CSV file I/O (e.g. pd.read_csv)\n",
    "import seaborn as sns\n",
    "import matplotlib.pyplot as plt\n",
    "\n",
    "# import os\n",
    "# for dirname, _, filenames in os.walk('/kaggle/input'):\n",
    "#     for filename in filenames:\n",
    "#         print(os.path.join(dirname, filename))\n",
    "\n",
    "# You can write up to 20GB to the current directory (/kaggle/working/) that gets preserved as output when you create a version using \"Save & Run All\" \n",
    "# You can also write temporary files to /kaggle/temp/, but they won't be saved outside of the current session"
   ]
  },
  {
   "cell_type": "markdown",
   "metadata": {
    "papermill": {
     "duration": 0.028179,
     "end_time": "2021-02-11T07:06:41.081217",
     "exception": false,
     "start_time": "2021-02-11T07:06:41.053038",
     "status": "completed"
    },
    "tags": []
   },
   "source": [
    "# Importing Data from the Amazon Top 50 Bestselling Books 2009-2019 dataset.# "
   ]
  },
  {
   "cell_type": "code",
   "execution_count": 49,
   "metadata": {
    "execution": {
     "iopub.execute_input": "2021-02-11T07:06:41.138044Z",
     "iopub.status.busy": "2021-02-11T07:06:41.137241Z",
     "iopub.status.idle": "2021-02-11T07:06:41.190929Z",
     "shell.execute_reply": "2021-02-11T07:06:41.190344Z"
    },
    "papermill": {
     "duration": 0.084729,
     "end_time": "2021-02-11T07:06:41.191110",
     "exception": false,
     "start_time": "2021-02-11T07:06:41.106381",
     "status": "completed"
    },
    "tags": []
   },
   "outputs": [
    {
     "data": {
      "text/html": [
       "<div>\n",
       "<style scoped>\n",
       "    .dataframe tbody tr th:only-of-type {\n",
       "        vertical-align: middle;\n",
       "    }\n",
       "\n",
       "    .dataframe tbody tr th {\n",
       "        vertical-align: top;\n",
       "    }\n",
       "\n",
       "    .dataframe thead th {\n",
       "        text-align: right;\n",
       "    }\n",
       "</style>\n",
       "<table border=\"1\" class=\"dataframe\">\n",
       "  <thead>\n",
       "    <tr style=\"text-align: right;\">\n",
       "      <th></th>\n",
       "      <th>Name</th>\n",
       "      <th>Author</th>\n",
       "      <th>User Rating</th>\n",
       "      <th>Reviews</th>\n",
       "      <th>Price</th>\n",
       "      <th>Year</th>\n",
       "      <th>Genre</th>\n",
       "    </tr>\n",
       "  </thead>\n",
       "  <tbody>\n",
       "    <tr>\n",
       "      <th>0</th>\n",
       "      <td>10-Day Green Smoothie Cleanse</td>\n",
       "      <td>JJ Smith</td>\n",
       "      <td>4.7</td>\n",
       "      <td>17350</td>\n",
       "      <td>8</td>\n",
       "      <td>2016</td>\n",
       "      <td>Non Fiction</td>\n",
       "    </tr>\n",
       "    <tr>\n",
       "      <th>1</th>\n",
       "      <td>11/22/63: A Novel</td>\n",
       "      <td>Stephen King</td>\n",
       "      <td>4.6</td>\n",
       "      <td>2052</td>\n",
       "      <td>22</td>\n",
       "      <td>2011</td>\n",
       "      <td>Fiction</td>\n",
       "    </tr>\n",
       "    <tr>\n",
       "      <th>2</th>\n",
       "      <td>12 Rules for Life: An Antidote to Chaos</td>\n",
       "      <td>Jordan B. Peterson</td>\n",
       "      <td>4.7</td>\n",
       "      <td>18979</td>\n",
       "      <td>15</td>\n",
       "      <td>2018</td>\n",
       "      <td>Non Fiction</td>\n",
       "    </tr>\n",
       "    <tr>\n",
       "      <th>3</th>\n",
       "      <td>1984 (Signet Classics)</td>\n",
       "      <td>George Orwell</td>\n",
       "      <td>4.7</td>\n",
       "      <td>21424</td>\n",
       "      <td>6</td>\n",
       "      <td>2017</td>\n",
       "      <td>Fiction</td>\n",
       "    </tr>\n",
       "    <tr>\n",
       "      <th>4</th>\n",
       "      <td>5,000 Awesome Facts (About Everything!) (Natio...</td>\n",
       "      <td>National Geographic Kids</td>\n",
       "      <td>4.8</td>\n",
       "      <td>7665</td>\n",
       "      <td>12</td>\n",
       "      <td>2019</td>\n",
       "      <td>Non Fiction</td>\n",
       "    </tr>\n",
       "  </tbody>\n",
       "</table>\n",
       "</div>"
      ],
      "text/plain": [
       "                                                Name  \\\n",
       "0                      10-Day Green Smoothie Cleanse   \n",
       "1                                  11/22/63: A Novel   \n",
       "2            12 Rules for Life: An Antidote to Chaos   \n",
       "3                             1984 (Signet Classics)   \n",
       "4  5,000 Awesome Facts (About Everything!) (Natio...   \n",
       "\n",
       "                     Author  User Rating  Reviews  Price  Year        Genre  \n",
       "0                  JJ Smith          4.7    17350      8  2016  Non Fiction  \n",
       "1              Stephen King          4.6     2052     22  2011      Fiction  \n",
       "2        Jordan B. Peterson          4.7    18979     15  2018  Non Fiction  \n",
       "3             George Orwell          4.7    21424      6  2017      Fiction  \n",
       "4  National Geographic Kids          4.8     7665     12  2019  Non Fiction  "
      ]
     },
     "execution_count": 49,
     "metadata": {},
     "output_type": "execute_result"
    }
   ],
   "source": [
    "book = pd.read_csv('bestsellers_with_categories.csv')\n",
    "book.head()"
   ]
  },
  {
   "cell_type": "markdown",
   "metadata": {
    "papermill": {
     "duration": 0.024888,
     "end_time": "2021-02-11T07:06:41.243269",
     "exception": false,
     "start_time": "2021-02-11T07:06:41.218381",
     "status": "completed"
    },
    "tags": []
   },
   "source": [
    "# Checking the data.# "
   ]
  },
  {
   "cell_type": "code",
   "execution_count": 50,
   "metadata": {
    "execution": {
     "iopub.execute_input": "2021-02-11T07:06:41.315415Z",
     "iopub.status.busy": "2021-02-11T07:06:41.314541Z",
     "iopub.status.idle": "2021-02-11T07:06:41.318487Z",
     "shell.execute_reply": "2021-02-11T07:06:41.318994Z"
    },
    "papermill": {
     "duration": 0.050531,
     "end_time": "2021-02-11T07:06:41.319177",
     "exception": false,
     "start_time": "2021-02-11T07:06:41.268646",
     "status": "completed"
    },
    "tags": []
   },
   "outputs": [
    {
     "name": "stdout",
     "output_type": "stream",
     "text": [
      "<class 'pandas.core.frame.DataFrame'>\n",
      "RangeIndex: 550 entries, 0 to 549\n",
      "Data columns (total 7 columns):\n",
      " #   Column       Non-Null Count  Dtype  \n",
      "---  ------       --------------  -----  \n",
      " 0   Name         550 non-null    object \n",
      " 1   Author       550 non-null    object \n",
      " 2   User Rating  550 non-null    float64\n",
      " 3   Reviews      550 non-null    int64  \n",
      " 4   Price        550 non-null    int64  \n",
      " 5   Year         550 non-null    int64  \n",
      " 6   Genre        550 non-null    object \n",
      "dtypes: float64(1), int64(3), object(3)\n",
      "memory usage: 30.2+ KB\n"
     ]
    }
   ],
   "source": [
    "book.info()"
   ]
  },
  {
   "cell_type": "markdown",
   "metadata": {
    "papermill": {
     "duration": 0.025335,
     "end_time": "2021-02-11T07:06:41.371454",
     "exception": false,
     "start_time": "2021-02-11T07:06:41.346119",
     "status": "completed"
    },
    "tags": []
   },
   "source": [
    "**Checking missing values in the data.**"
   ]
  },
  {
   "cell_type": "code",
   "execution_count": 51,
   "metadata": {
    "execution": {
     "iopub.execute_input": "2021-02-11T07:06:41.431405Z",
     "iopub.status.busy": "2021-02-11T07:06:41.430734Z",
     "iopub.status.idle": "2021-02-11T07:06:41.434402Z",
     "shell.execute_reply": "2021-02-11T07:06:41.434900Z"
    },
    "papermill": {
     "duration": 0.037565,
     "end_time": "2021-02-11T07:06:41.435081",
     "exception": false,
     "start_time": "2021-02-11T07:06:41.397516",
     "status": "completed"
    },
    "tags": []
   },
   "outputs": [
    {
     "data": {
      "text/plain": [
       "Name           0\n",
       "Author         0\n",
       "User Rating    0\n",
       "Reviews        0\n",
       "Price          0\n",
       "Year           0\n",
       "Genre          0\n",
       "dtype: int64"
      ]
     },
     "execution_count": 51,
     "metadata": {},
     "output_type": "execute_result"
    }
   ],
   "source": [
    "book.isnull().sum()"
   ]
  },
  {
   "cell_type": "markdown",
   "metadata": {
    "papermill": {
     "duration": 0.025336,
     "end_time": "2021-02-11T07:06:41.488212",
     "exception": false,
     "start_time": "2021-02-11T07:06:41.462876",
     "status": "completed"
    },
    "tags": []
   },
   "source": [
    "**Checking duplicate values in the data.**"
   ]
  },
  {
   "cell_type": "code",
   "execution_count": 52,
   "metadata": {
    "execution": {
     "iopub.execute_input": "2021-02-11T07:06:41.543923Z",
     "iopub.status.busy": "2021-02-11T07:06:41.543195Z",
     "iopub.status.idle": "2021-02-11T07:06:41.552596Z",
     "shell.execute_reply": "2021-02-11T07:06:41.553134Z"
    },
    "papermill": {
     "duration": 0.039252,
     "end_time": "2021-02-11T07:06:41.553328",
     "exception": false,
     "start_time": "2021-02-11T07:06:41.514076",
     "status": "completed"
    },
    "tags": []
   },
   "outputs": [
    {
     "data": {
      "text/plain": [
       "Publication Manual of the American Psychological Association, 6th Edition                                  10\n",
       "StrengthsFinder 2.0                                                                                         9\n",
       "Oh, the Places You'll Go!                                                                                   8\n",
       "The Very Hungry Caterpillar                                                                                 7\n",
       "The 7 Habits of Highly Effective People: Powerful Lessons in Personal Change                                7\n",
       "                                                                                                           ..\n",
       "Divergent / Insurgent                                                                                       1\n",
       "The Big Short: Inside the Doomsday Machine                                                                  1\n",
       "The Plant Paradox: The Hidden Dangers in \"Healthy\" Foods That Cause Disease and Weight Gain                 1\n",
       "When Breath Becomes Air                                                                                     1\n",
       "National Geographic Little Kids First Big Book of Why (National Geographic Little Kids First Big Books)     1\n",
       "Name: Name, Length: 351, dtype: int64"
      ]
     },
     "execution_count": 52,
     "metadata": {},
     "output_type": "execute_result"
    }
   ],
   "source": [
    "book['Name'].value_counts()"
   ]
  },
  {
   "cell_type": "markdown",
   "metadata": {
    "papermill": {
     "duration": 0.026416,
     "end_time": "2021-02-11T07:06:41.605751",
     "exception": false,
     "start_time": "2021-02-11T07:06:41.579335",
     "status": "completed"
    },
    "tags": []
   },
   "source": [
    "**Removing duplicate values from the data.**"
   ]
  },
  {
   "cell_type": "code",
   "execution_count": 53,
   "metadata": {
    "execution": {
     "iopub.execute_input": "2021-02-11T07:06:41.661522Z",
     "iopub.status.busy": "2021-02-11T07:06:41.660791Z",
     "iopub.status.idle": "2021-02-11T07:06:41.676670Z",
     "shell.execute_reply": "2021-02-11T07:06:41.677402Z"
    },
    "papermill": {
     "duration": 0.045856,
     "end_time": "2021-02-11T07:06:41.677677",
     "exception": false,
     "start_time": "2021-02-11T07:06:41.631821",
     "status": "completed"
    },
    "tags": []
   },
   "outputs": [
    {
     "name": "stdout",
     "output_type": "stream",
     "text": [
      "<class 'pandas.core.frame.DataFrame'>\n",
      "Int64Index: 351 entries, 0 to 549\n",
      "Data columns (total 7 columns):\n",
      " #   Column       Non-Null Count  Dtype  \n",
      "---  ------       --------------  -----  \n",
      " 0   Name         351 non-null    object \n",
      " 1   Author       351 non-null    object \n",
      " 2   User Rating  351 non-null    float64\n",
      " 3   Reviews      351 non-null    int64  \n",
      " 4   Price        351 non-null    int64  \n",
      " 5   Year         351 non-null    int64  \n",
      " 6   Genre        351 non-null    object \n",
      "dtypes: float64(1), int64(3), object(3)\n",
      "memory usage: 21.9+ KB\n"
     ]
    }
   ],
   "source": [
    "book.drop_duplicates('Name', keep = 'last', inplace = True)\n",
    "book.info()"
   ]
  },
  {
   "cell_type": "markdown",
   "metadata": {
    "papermill": {
     "duration": 0.027232,
     "end_time": "2021-02-11T07:06:41.733209",
     "exception": false,
     "start_time": "2021-02-11T07:06:41.705977",
     "status": "completed"
    },
    "tags": []
   },
   "source": [
    "# **Performing EDA on the data.**"
   ]
  },
  {
   "cell_type": "code",
   "execution_count": 54,
   "metadata": {
    "execution": {
     "iopub.execute_input": "2021-02-11T07:06:41.816147Z",
     "iopub.status.busy": "2021-02-11T07:06:41.808221Z",
     "iopub.status.idle": "2021-02-11T07:06:44.170944Z",
     "shell.execute_reply": "2021-02-11T07:06:44.170232Z"
    },
    "papermill": {
     "duration": 2.410153,
     "end_time": "2021-02-11T07:06:44.171098",
     "exception": false,
     "start_time": "2021-02-11T07:06:41.760945",
     "status": "completed"
    },
    "tags": []
   },
   "outputs": [
    {
     "data": {
      "text/plain": [
       "<AxesSubplot:xlabel='Year'>"
      ]
     },
     "execution_count": 54,
     "metadata": {},
     "output_type": "execute_result"
    },
    {
     "data": {
      "image/png": "[encoded data removed]",
      "text/plain": [
       "<Figure size 1440x720 with 1 Axes>"
      ]
     },
     "metadata": {
      "needs_background": "light"
     },
     "output_type": "display_data"
    }
   ],
   "source": [
    "fig, ax = plt.subplots(figsize=(20, 10))\n",
    "book.plot(kind = 'bar', x = 'Year', y = 'Reviews', ax = ax)"
   ]
  },
  {
   "cell_type": "code",
   "execution_count": 55,
   "metadata": {
    "execution": {
     "iopub.execute_input": "2021-02-11T07:06:44.248884Z",
     "iopub.status.busy": "2021-02-11T07:06:44.248172Z",
     "iopub.status.idle": "2021-02-11T07:06:44.753111Z",
     "shell.execute_reply": "2021-02-11T07:06:44.753732Z"
    },
    "papermill": {
     "duration": 0.554372,
     "end_time": "2021-02-11T07:06:44.753931",
     "exception": false,
     "start_time": "2021-02-11T07:06:44.199559",
     "status": "completed"
    },
    "tags": []
   },
   "outputs": [
    {
     "data": {
      "text/plain": [
       "<AxesSubplot:xlabel='Year', ylabel='Reviews'>"
      ]
     },
     "execution_count": 55,
     "metadata": {},
     "output_type": "execute_result"
    },
    {
     "data": {
      "image/png": "[encoded data removed]",
      "text/plain": [
       "<Figure size 1440x720 with 1 Axes>"
      ]
     },
     "metadata": {
      "needs_background": "light"
     },
     "output_type": "display_data"
    }
   ],
   "source": [
    "fig, ax = plt.subplots(figsize=(20, 10))\n",
    "sns.lineplot(y='Reviews', x='Year', data=book, ax=ax)"
   ]
  },
  {
   "cell_type": "code",
   "execution_count": 56,
   "metadata": {
    "execution": {
     "iopub.execute_input": "2021-02-11T07:06:44.824017Z",
     "iopub.status.busy": "2021-02-11T07:06:44.823255Z",
     "iopub.status.idle": "2021-02-11T07:06:45.129174Z",
     "shell.execute_reply": "2021-02-11T07:06:45.129921Z"
    },
    "papermill": {
     "duration": 0.339518,
     "end_time": "2021-02-11T07:06:45.130103",
     "exception": false,
     "start_time": "2021-02-11T07:06:44.790585",
     "status": "completed"
    },
    "tags": []
   },
   "outputs": [
    {
     "data": {
      "text/plain": [
       "<AxesSubplot:xlabel='User Rating', ylabel='Price'>"
      ]
     },
     "execution_count": 56,
     "metadata": {},
     "output_type": "execute_result"
    },
    {
     "data": {
      "image/png": "[encoded data removed]",
      "text/plain": [
       "<Figure size 432x288 with 1 Axes>"
      ]
     },
     "metadata": {
      "needs_background": "light"
     },
     "output_type": "display_data"
    }
   ],
   "source": [
    "sns.regplot(x=book['User Rating'], y=book['Price'])"
   ]
  },
  {
   "cell_type": "code",
   "execution_count": 57,
   "metadata": {
    "execution": {
     "iopub.execute_input": "2021-02-11T07:06:45.196021Z",
     "iopub.status.busy": "2021-02-11T07:06:45.195154Z",
     "iopub.status.idle": "2021-02-11T07:06:45.460072Z",
     "shell.execute_reply": "2021-02-11T07:06:45.460608Z"
    },
    "papermill": {
     "duration": 0.299738,
     "end_time": "2021-02-11T07:06:45.460801",
     "exception": false,
     "start_time": "2021-02-11T07:06:45.161063",
     "status": "completed"
    },
    "tags": []
   },
   "outputs": [
    {
     "data": {
      "text/plain": [
       "<AxesSubplot:xlabel='User Rating', ylabel='Count'>"
      ]
     },
     "execution_count": 57,
     "metadata": {},
     "output_type": "execute_result"
    },
    {
     "data": {
      "image/png": "[encoded data removed]",
      "text/plain": [
       "<Figure size 432x288 with 1 Axes>"
      ]
     },
     "metadata": {
      "needs_background": "light"
     },
     "output_type": "display_data"
    }
   ],
   "source": [
    "sns.histplot(x=book['User Rating'], kde=False, bins=50)"
   ]
  },
  {
   "cell_type": "code",
   "execution_count": 58,
   "metadata": {
    "execution": {
     "iopub.execute_input": "2021-02-11T07:06:45.528282Z",
     "iopub.status.busy": "2021-02-11T07:06:45.527434Z",
     "iopub.status.idle": "2021-02-11T07:06:46.270824Z",
     "shell.execute_reply": "2021-02-11T07:06:46.270090Z"
    },
    "papermill": {
     "duration": 0.778287,
     "end_time": "2021-02-11T07:06:46.270977",
     "exception": false,
     "start_time": "2021-02-11T07:06:45.492690",
     "status": "completed"
    },
    "tags": []
   },
   "outputs": [
    {
     "data": {
      "image/png": "[encoded data removed]",
      "text/plain": [
       "<Figure size 1152x720 with 3 Axes>"
      ]
     },
     "metadata": {
      "needs_background": "light"
     },
     "output_type": "display_data"
    }
   ],
   "source": [
    "fig, axs = plt.subplots(2, 2, figsize=(16,10))\n",
    "fig.delaxes(axs[1,1])\n",
    "\n",
    "axs[0,0].hist(book['Reviews'], bins=50)\n",
    "axs[0,1].hist(book['Price'], bins=50)\n",
    "axs[1,0].hist(book['Year'], bins=50)\n",
    "axs[0,0].title.set_text('Reviews')\n",
    "axs[0,1].title.set_text('Price')\n",
    "axs[1,0].title.set_text('Year')\n",
    "\n",
    "plt.show()"
   ]
  },
  {
   "cell_type": "code",
   "execution_count": 59,
   "metadata": {
    "execution": {
     "iopub.execute_input": "2021-02-11T07:06:46.364697Z",
     "iopub.status.busy": "2021-02-11T07:06:46.363620Z",
     "iopub.status.idle": "2021-02-11T07:06:48.806273Z",
     "shell.execute_reply": "2021-02-11T07:06:48.806884Z"
    },
    "papermill": {
     "duration": 2.502324,
     "end_time": "2021-02-11T07:06:48.807135",
     "exception": false,
     "start_time": "2021-02-11T07:06:46.304811",
     "status": "completed"
    },
    "tags": []
   },
   "outputs": [
    {
     "data": {
      "text/plain": [
       "<AxesSubplot:xlabel='Genre'>"
      ]
     },
     "execution_count": 59,
     "metadata": {},
     "output_type": "execute_result"
    },
    {
     "data": {
      "image/png": "[encoded data removed]",
      "text/plain": [
       "<Figure size 432x288 with 1 Axes>"
      ]
     },
     "metadata": {
      "needs_background": "light"
     },
     "output_type": "display_data"
    }
   ],
   "source": [
    "book.plot(x='Genre', y='Reviews', kind='bar')"
   ]
  },
  {
   "cell_type": "markdown",
   "metadata": {
    "papermill": {
     "duration": 0.038455,
     "end_time": "2021-02-11T07:06:50.393937",
     "exception": false,
     "start_time": "2021-02-11T07:06:50.355482",
     "status": "completed"
    },
    "tags": []
   },
   "source": [
    "***Creating new dataframe by copying the existing one so we can use it later without errors.***"
   ]
  },
  {
   "cell_type": "code",
   "execution_count": 60,
   "metadata": {
    "execution": {
     "iopub.execute_input": "2021-02-11T07:06:50.490369Z",
     "iopub.status.busy": "2021-02-11T07:06:50.489615Z",
     "iopub.status.idle": "2021-02-11T07:06:50.493843Z",
     "shell.execute_reply": "2021-02-11T07:06:50.493187Z"
    },
    "papermill": {
     "duration": 0.06162,
     "end_time": "2021-02-11T07:06:50.494001",
     "exception": false,
     "start_time": "2021-02-11T07:06:50.432381",
     "status": "completed"
    },
    "scrolled": true,
    "tags": []
   },
   "outputs": [
    {
     "data": {
      "text/html": [
       "<div>\n",
       "<style scoped>\n",
       "    .dataframe tbody tr th:only-of-type {\n",
       "        vertical-align: middle;\n",
       "    }\n",
       "\n",
       "    .dataframe tbody tr th {\n",
       "        vertical-align: top;\n",
       "    }\n",
       "\n",
       "    .dataframe thead th {\n",
       "        text-align: right;\n",
       "    }\n",
       "</style>\n",
       "<table border=\"1\" class=\"dataframe\">\n",
       "  <thead>\n",
       "    <tr style=\"text-align: right;\">\n",
       "      <th></th>\n",
       "      <th>Name</th>\n",
       "      <th>Author</th>\n",
       "      <th>User Rating</th>\n",
       "      <th>Reviews</th>\n",
       "      <th>Price</th>\n",
       "      <th>Year</th>\n",
       "      <th>Genre</th>\n",
       "    </tr>\n",
       "  </thead>\n",
       "  <tbody>\n",
       "    <tr>\n",
       "      <th>0</th>\n",
       "      <td>10-Day Green Smoothie Cleanse</td>\n",
       "      <td>JJ Smith</td>\n",
       "      <td>4.7</td>\n",
       "      <td>17350</td>\n",
       "      <td>8</td>\n",
       "      <td>2016</td>\n",
       "      <td>Non Fiction</td>\n",
       "    </tr>\n",
       "    <tr>\n",
       "      <th>1</th>\n",
       "      <td>11/22/63: A Novel</td>\n",
       "      <td>Stephen King</td>\n",
       "      <td>4.6</td>\n",
       "      <td>2052</td>\n",
       "      <td>22</td>\n",
       "      <td>2011</td>\n",
       "      <td>Fiction</td>\n",
       "    </tr>\n",
       "    <tr>\n",
       "      <th>2</th>\n",
       "      <td>12 Rules for Life: An Antidote to Chaos</td>\n",
       "      <td>Jordan B. Peterson</td>\n",
       "      <td>4.7</td>\n",
       "      <td>18979</td>\n",
       "      <td>15</td>\n",
       "      <td>2018</td>\n",
       "      <td>Non Fiction</td>\n",
       "    </tr>\n",
       "    <tr>\n",
       "      <th>3</th>\n",
       "      <td>1984 (Signet Classics)</td>\n",
       "      <td>George Orwell</td>\n",
       "      <td>4.7</td>\n",
       "      <td>21424</td>\n",
       "      <td>6</td>\n",
       "      <td>2017</td>\n",
       "      <td>Fiction</td>\n",
       "    </tr>\n",
       "    <tr>\n",
       "      <th>4</th>\n",
       "      <td>5,000 Awesome Facts (About Everything!) (Natio...</td>\n",
       "      <td>National Geographic Kids</td>\n",
       "      <td>4.8</td>\n",
       "      <td>7665</td>\n",
       "      <td>12</td>\n",
       "      <td>2019</td>\n",
       "      <td>Non Fiction</td>\n",
       "    </tr>\n",
       "    <tr>\n",
       "      <th>...</th>\n",
       "      <td>...</td>\n",
       "      <td>...</td>\n",
       "      <td>...</td>\n",
       "      <td>...</td>\n",
       "      <td>...</td>\n",
       "      <td>...</td>\n",
       "      <td>...</td>\n",
       "    </tr>\n",
       "    <tr>\n",
       "      <th>538</th>\n",
       "      <td>Winter of the World: Book Two of the Century T...</td>\n",
       "      <td>Ken Follett</td>\n",
       "      <td>4.5</td>\n",
       "      <td>10760</td>\n",
       "      <td>15</td>\n",
       "      <td>2012</td>\n",
       "      <td>Fiction</td>\n",
       "    </tr>\n",
       "    <tr>\n",
       "      <th>539</th>\n",
       "      <td>Women Food and God: An Unexpected Path to Almo...</td>\n",
       "      <td>Geneen Roth</td>\n",
       "      <td>4.2</td>\n",
       "      <td>1302</td>\n",
       "      <td>11</td>\n",
       "      <td>2010</td>\n",
       "      <td>Non Fiction</td>\n",
       "    </tr>\n",
       "    <tr>\n",
       "      <th>544</th>\n",
       "      <td>Wonder</td>\n",
       "      <td>R. J. Palacio</td>\n",
       "      <td>4.8</td>\n",
       "      <td>21625</td>\n",
       "      <td>9</td>\n",
       "      <td>2017</td>\n",
       "      <td>Fiction</td>\n",
       "    </tr>\n",
       "    <tr>\n",
       "      <th>545</th>\n",
       "      <td>Wrecking Ball (Diary of a Wimpy Kid Book 14)</td>\n",
       "      <td>Jeff Kinney</td>\n",
       "      <td>4.9</td>\n",
       "      <td>9413</td>\n",
       "      <td>8</td>\n",
       "      <td>2019</td>\n",
       "      <td>Fiction</td>\n",
       "    </tr>\n",
       "    <tr>\n",
       "      <th>549</th>\n",
       "      <td>You Are a Badass: How to Stop Doubting Your Gr...</td>\n",
       "      <td>Jen Sincero</td>\n",
       "      <td>4.7</td>\n",
       "      <td>14331</td>\n",
       "      <td>8</td>\n",
       "      <td>2019</td>\n",
       "      <td>Non Fiction</td>\n",
       "    </tr>\n",
       "  </tbody>\n",
       "</table>\n",
       "<p>351 rows × 7 columns</p>\n",
       "</div>"
      ],
      "text/plain": [
       "                                                  Name  \\\n",
       "0                        10-Day Green Smoothie Cleanse   \n",
       "1                                    11/22/63: A Novel   \n",
       "2              12 Rules for Life: An Antidote to Chaos   \n",
       "3                               1984 (Signet Classics)   \n",
       "4    5,000 Awesome Facts (About Everything!) (Natio...   \n",
       "..                                                 ...   \n",
       "538  Winter of the World: Book Two of the Century T...   \n",
       "539  Women Food and God: An Unexpected Path to Almo...   \n",
       "544                                             Wonder   \n",
       "545       Wrecking Ball (Diary of a Wimpy Kid Book 14)   \n",
       "549  You Are a Badass: How to Stop Doubting Your Gr...   \n",
       "\n",
       "                       Author  User Rating  Reviews  Price  Year        Genre  \n",
       "0                    JJ Smith          4.7    17350      8  2016  Non Fiction  \n",
       "1                Stephen King          4.6     2052     22  2011      Fiction  \n",
       "2          Jordan B. Peterson          4.7    18979     15  2018  Non Fiction  \n",
       "3               George Orwell          4.7    21424      6  2017      Fiction  \n",
       "4    National Geographic Kids          4.8     7665     12  2019  Non Fiction  \n",
       "..                        ...          ...      ...    ...   ...          ...  \n",
       "538               Ken Follett          4.5    10760     15  2012      Fiction  \n",
       "539               Geneen Roth          4.2     1302     11  2010  Non Fiction  \n",
       "544             R. J. Palacio          4.8    21625      9  2017      Fiction  \n",
       "545               Jeff Kinney          4.9     9413      8  2019      Fiction  \n",
       "549               Jen Sincero          4.7    14331      8  2019  Non Fiction  \n",
       "\n",
       "[351 rows x 7 columns]"
      ]
     },
     "execution_count": 60,
     "metadata": {},
     "output_type": "execute_result"
    }
   ],
   "source": [
    "book_for_tree = book.copy(deep=True)\n",
    "book_for_tree"
   ]
  },
  {
   "cell_type": "markdown",
   "metadata": {
    "papermill": {
     "duration": 0.040151,
     "end_time": "2021-02-11T07:06:50.572756",
     "exception": false,
     "start_time": "2021-02-11T07:06:50.532605",
     "status": "completed"
    },
    "tags": []
   },
   "source": [
    "***Generate Dummies***"
   ]
  },
  {
   "cell_type": "code",
   "execution_count": 61,
   "metadata": {
    "execution": {
     "iopub.execute_input": "2021-02-11T07:06:50.660181Z",
     "iopub.status.busy": "2021-02-11T07:06:50.658500Z",
     "iopub.status.idle": "2021-02-11T07:06:50.679686Z",
     "shell.execute_reply": "2021-02-11T07:06:50.680227Z"
    },
    "papermill": {
     "duration": 0.068002,
     "end_time": "2021-02-11T07:06:50.680449",
     "exception": false,
     "start_time": "2021-02-11T07:06:50.612447",
     "status": "completed"
    },
    "tags": []
   },
   "outputs": [
    {
     "data": {
      "text/html": [
       "<div>\n",
       "<style scoped>\n",
       "    .dataframe tbody tr th:only-of-type {\n",
       "        vertical-align: middle;\n",
       "    }\n",
       "\n",
       "    .dataframe tbody tr th {\n",
       "        vertical-align: top;\n",
       "    }\n",
       "\n",
       "    .dataframe thead th {\n",
       "        text-align: right;\n",
       "    }\n",
       "</style>\n",
       "<table border=\"1\" class=\"dataframe\">\n",
       "  <thead>\n",
       "    <tr style=\"text-align: right;\">\n",
       "      <th></th>\n",
       "      <th>Name</th>\n",
       "      <th>Author</th>\n",
       "      <th>User Rating</th>\n",
       "      <th>Reviews</th>\n",
       "      <th>Price</th>\n",
       "      <th>Year_2010</th>\n",
       "      <th>Year_2011</th>\n",
       "      <th>Year_2012</th>\n",
       "      <th>Year_2013</th>\n",
       "      <th>Year_2014</th>\n",
       "      <th>Year_2015</th>\n",
       "      <th>Year_2016</th>\n",
       "      <th>Year_2017</th>\n",
       "      <th>Year_2018</th>\n",
       "      <th>Year_2019</th>\n",
       "      <th>Genre_Non Fiction</th>\n",
       "    </tr>\n",
       "  </thead>\n",
       "  <tbody>\n",
       "    <tr>\n",
       "      <th>0</th>\n",
       "      <td>10-Day Green Smoothie Cleanse</td>\n",
       "      <td>JJ Smith</td>\n",
       "      <td>4.7</td>\n",
       "      <td>17350</td>\n",
       "      <td>8</td>\n",
       "      <td>0</td>\n",
       "      <td>0</td>\n",
       "      <td>0</td>\n",
       "      <td>0</td>\n",
       "      <td>0</td>\n",
       "      <td>0</td>\n",
       "      <td>1</td>\n",
       "      <td>0</td>\n",
       "      <td>0</td>\n",
       "      <td>0</td>\n",
       "      <td>1</td>\n",
       "    </tr>\n",
       "    <tr>\n",
       "      <th>1</th>\n",
       "      <td>11/22/63: A Novel</td>\n",
       "      <td>Stephen King</td>\n",
       "      <td>4.6</td>\n",
       "      <td>2052</td>\n",
       "      <td>22</td>\n",
       "      <td>0</td>\n",
       "      <td>1</td>\n",
       "      <td>0</td>\n",
       "      <td>0</td>\n",
       "      <td>0</td>\n",
       "      <td>0</td>\n",
       "      <td>0</td>\n",
       "      <td>0</td>\n",
       "      <td>0</td>\n",
       "      <td>0</td>\n",
       "      <td>0</td>\n",
       "    </tr>\n",
       "    <tr>\n",
       "      <th>2</th>\n",
       "      <td>12 Rules for Life: An Antidote to Chaos</td>\n",
       "      <td>Jordan B. Peterson</td>\n",
       "      <td>4.7</td>\n",
       "      <td>18979</td>\n",
       "      <td>15</td>\n",
       "      <td>0</td>\n",
       "      <td>0</td>\n",
       "      <td>0</td>\n",
       "      <td>0</td>\n",
       "      <td>0</td>\n",
       "      <td>0</td>\n",
       "      <td>0</td>\n",
       "      <td>0</td>\n",
       "      <td>1</td>\n",
       "      <td>0</td>\n",
       "      <td>1</td>\n",
       "    </tr>\n",
       "    <tr>\n",
       "      <th>3</th>\n",
       "      <td>1984 (Signet Classics)</td>\n",
       "      <td>George Orwell</td>\n",
       "      <td>4.7</td>\n",
       "      <td>21424</td>\n",
       "      <td>6</td>\n",
       "      <td>0</td>\n",
       "      <td>0</td>\n",
       "      <td>0</td>\n",
       "      <td>0</td>\n",
       "      <td>0</td>\n",
       "      <td>0</td>\n",
       "      <td>0</td>\n",
       "      <td>1</td>\n",
       "      <td>0</td>\n",
       "      <td>0</td>\n",
       "      <td>0</td>\n",
       "    </tr>\n",
       "    <tr>\n",
       "      <th>4</th>\n",
       "      <td>5,000 Awesome Facts (About Everything!) (Natio...</td>\n",
       "      <td>National Geographic Kids</td>\n",
       "      <td>4.8</td>\n",
       "      <td>7665</td>\n",
       "      <td>12</td>\n",
       "      <td>0</td>\n",
       "      <td>0</td>\n",
       "      <td>0</td>\n",
       "      <td>0</td>\n",
       "      <td>0</td>\n",
       "      <td>0</td>\n",
       "      <td>0</td>\n",
       "      <td>0</td>\n",
       "      <td>0</td>\n",
       "      <td>1</td>\n",
       "      <td>1</td>\n",
       "    </tr>\n",
       "  </tbody>\n",
       "</table>\n",
       "</div>"
      ],
      "text/plain": [
       "                                                Name  \\\n",
       "0                      10-Day Green Smoothie Cleanse   \n",
       "1                                  11/22/63: A Novel   \n",
       "2            12 Rules for Life: An Antidote to Chaos   \n",
       "3                             1984 (Signet Classics)   \n",
       "4  5,000 Awesome Facts (About Everything!) (Natio...   \n",
       "\n",
       "                     Author  User Rating  Reviews  Price  Year_2010  \\\n",
       "0                  JJ Smith          4.7    17350      8          0   \n",
       "1              Stephen King          4.6     2052     22          0   \n",
       "2        Jordan B. Peterson          4.7    18979     15          0   \n",
       "3             George Orwell          4.7    21424      6          0   \n",
       "4  National Geographic Kids          4.8     7665     12          0   \n",
       "\n",
       "   Year_2011  Year_2012  Year_2013  Year_2014  Year_2015  Year_2016  \\\n",
       "0          0          0          0          0          0          1   \n",
       "1          1          0          0          0          0          0   \n",
       "2          0          0          0          0          0          0   \n",
       "3          0          0          0          0          0          0   \n",
       "4          0          0          0          0          0          0   \n",
       "\n",
       "   Year_2017  Year_2018  Year_2019  Genre_Non Fiction  \n",
       "0          0          0          0                  1  \n",
       "1          0          0          0                  0  \n",
       "2          0          1          0                  1  \n",
       "3          1          0          0                  0  \n",
       "4          0          0          1                  1  "
      ]
     },
     "execution_count": 61,
     "metadata": {},
     "output_type": "execute_result"
    }
   ],
   "source": [
    "book=pd.get_dummies(book, drop_first=True, columns=['Year', 'Genre'])\n",
    "book.head()"
   ]
  },
  {
   "cell_type": "markdown",
   "metadata": {
    "papermill": {
     "duration": 0.039843,
     "end_time": "2021-02-11T07:06:50.760521",
     "exception": false,
     "start_time": "2021-02-11T07:06:50.720678",
     "status": "completed"
    },
    "tags": []
   },
   "source": [
    "***Plotting Correlation***"
   ]
  },
  {
   "cell_type": "code",
   "execution_count": 62,
   "metadata": {
    "execution": {
     "iopub.execute_input": "2021-02-11T07:06:50.869050Z",
     "iopub.status.busy": "2021-02-11T07:06:50.847196Z",
     "iopub.status.idle": "2021-02-11T07:06:50.875206Z",
     "shell.execute_reply": "2021-02-11T07:06:50.874459Z"
    },
    "papermill": {
     "duration": 0.074231,
     "end_time": "2021-02-11T07:06:50.875362",
     "exception": false,
     "start_time": "2021-02-11T07:06:50.801131",
     "status": "completed"
    },
    "tags": []
   },
   "outputs": [
    {
     "data": {
      "text/html": [
       "<div>\n",
       "<style scoped>\n",
       "    .dataframe tbody tr th:only-of-type {\n",
       "        vertical-align: middle;\n",
       "    }\n",
       "\n",
       "    .dataframe tbody tr th {\n",
       "        vertical-align: top;\n",
       "    }\n",
       "\n",
       "    .dataframe thead th {\n",
       "        text-align: right;\n",
       "    }\n",
       "</style>\n",
       "<table border=\"1\" class=\"dataframe\">\n",
       "  <thead>\n",
       "    <tr style=\"text-align: right;\">\n",
       "      <th></th>\n",
       "      <th>User Rating</th>\n",
       "      <th>Reviews</th>\n",
       "      <th>Price</th>\n",
       "      <th>Year_2010</th>\n",
       "      <th>Year_2011</th>\n",
       "      <th>Year_2012</th>\n",
       "      <th>Year_2013</th>\n",
       "      <th>Year_2014</th>\n",
       "      <th>Year_2015</th>\n",
       "      <th>Year_2016</th>\n",
       "      <th>Year_2017</th>\n",
       "      <th>Year_2018</th>\n",
       "      <th>Year_2019</th>\n",
       "      <th>Genre_Non Fiction</th>\n",
       "    </tr>\n",
       "  </thead>\n",
       "  <tbody>\n",
       "    <tr>\n",
       "      <th>User Rating</th>\n",
       "      <td>1.000000</td>\n",
       "      <td>-0.056105</td>\n",
       "      <td>-0.025012</td>\n",
       "      <td>-0.094896</td>\n",
       "      <td>-0.115520</td>\n",
       "      <td>-0.087074</td>\n",
       "      <td>-0.090814</td>\n",
       "      <td>-0.043818</td>\n",
       "      <td>0.039234</td>\n",
       "      <td>0.094322</td>\n",
       "      <td>0.006199</td>\n",
       "      <td>0.009640</td>\n",
       "      <td>0.245212</td>\n",
       "      <td>-0.026311</td>\n",
       "    </tr>\n",
       "    <tr>\n",
       "      <th>Reviews</th>\n",
       "      <td>-0.056105</td>\n",
       "      <td>1.000000</td>\n",
       "      <td>-0.040079</td>\n",
       "      <td>-0.184054</td>\n",
       "      <td>-0.125710</td>\n",
       "      <td>0.026473</td>\n",
       "      <td>-0.011722</td>\n",
       "      <td>0.123683</td>\n",
       "      <td>0.001643</td>\n",
       "      <td>0.087222</td>\n",
       "      <td>0.007584</td>\n",
       "      <td>0.008385</td>\n",
       "      <td>0.233142</td>\n",
       "      <td>-0.280202</td>\n",
       "    </tr>\n",
       "    <tr>\n",
       "      <th>Price</th>\n",
       "      <td>-0.025012</td>\n",
       "      <td>-0.040079</td>\n",
       "      <td>1.000000</td>\n",
       "      <td>-0.036900</td>\n",
       "      <td>0.034367</td>\n",
       "      <td>0.063505</td>\n",
       "      <td>-0.034522</td>\n",
       "      <td>0.127513</td>\n",
       "      <td>-0.100747</td>\n",
       "      <td>0.073025</td>\n",
       "      <td>-0.022588</td>\n",
       "      <td>-0.056030</td>\n",
       "      <td>-0.119752</td>\n",
       "      <td>0.078967</td>\n",
       "    </tr>\n",
       "    <tr>\n",
       "      <th>Year_2010</th>\n",
       "      <td>-0.094896</td>\n",
       "      <td>-0.184054</td>\n",
       "      <td>-0.036900</td>\n",
       "      <td>1.000000</td>\n",
       "      <td>-0.092994</td>\n",
       "      <td>-0.102029</td>\n",
       "      <td>-0.094846</td>\n",
       "      <td>-0.098481</td>\n",
       "      <td>-0.094846</td>\n",
       "      <td>-0.091115</td>\n",
       "      <td>-0.096675</td>\n",
       "      <td>-0.100265</td>\n",
       "      <td>-0.129759</td>\n",
       "      <td>0.020438</td>\n",
       "    </tr>\n",
       "    <tr>\n",
       "      <th>Year_2011</th>\n",
       "      <td>-0.115520</td>\n",
       "      <td>-0.125710</td>\n",
       "      <td>0.034367</td>\n",
       "      <td>-0.092994</td>\n",
       "      <td>1.000000</td>\n",
       "      <td>-0.091430</td>\n",
       "      <td>-0.084994</td>\n",
       "      <td>-0.088251</td>\n",
       "      <td>-0.084994</td>\n",
       "      <td>-0.081650</td>\n",
       "      <td>-0.086632</td>\n",
       "      <td>-0.089849</td>\n",
       "      <td>-0.116280</td>\n",
       "      <td>-0.057796</td>\n",
       "    </tr>\n",
       "    <tr>\n",
       "      <th>Year_2012</th>\n",
       "      <td>-0.087074</td>\n",
       "      <td>0.026473</td>\n",
       "      <td>0.063505</td>\n",
       "      <td>-0.102029</td>\n",
       "      <td>-0.091430</td>\n",
       "      <td>1.000000</td>\n",
       "      <td>-0.093252</td>\n",
       "      <td>-0.096825</td>\n",
       "      <td>-0.093252</td>\n",
       "      <td>-0.089583</td>\n",
       "      <td>-0.095050</td>\n",
       "      <td>-0.098579</td>\n",
       "      <td>-0.127578</td>\n",
       "      <td>0.011663</td>\n",
       "    </tr>\n",
       "    <tr>\n",
       "      <th>Year_2013</th>\n",
       "      <td>-0.090814</td>\n",
       "      <td>-0.011722</td>\n",
       "      <td>-0.034522</td>\n",
       "      <td>-0.094846</td>\n",
       "      <td>-0.084994</td>\n",
       "      <td>-0.093252</td>\n",
       "      <td>1.000000</td>\n",
       "      <td>-0.090009</td>\n",
       "      <td>-0.086687</td>\n",
       "      <td>-0.083277</td>\n",
       "      <td>-0.088359</td>\n",
       "      <td>-0.091640</td>\n",
       "      <td>-0.118597</td>\n",
       "      <td>-0.004993</td>\n",
       "    </tr>\n",
       "    <tr>\n",
       "      <th>Year_2014</th>\n",
       "      <td>-0.043818</td>\n",
       "      <td>0.123683</td>\n",
       "      <td>0.127513</td>\n",
       "      <td>-0.098481</td>\n",
       "      <td>-0.088251</td>\n",
       "      <td>-0.096825</td>\n",
       "      <td>-0.090009</td>\n",
       "      <td>1.000000</td>\n",
       "      <td>-0.090009</td>\n",
       "      <td>-0.086468</td>\n",
       "      <td>-0.091744</td>\n",
       "      <td>-0.095151</td>\n",
       "      <td>-0.123141</td>\n",
       "      <td>-0.129409</td>\n",
       "    </tr>\n",
       "    <tr>\n",
       "      <th>Year_2015</th>\n",
       "      <td>0.039234</td>\n",
       "      <td>0.001643</td>\n",
       "      <td>-0.100747</td>\n",
       "      <td>-0.094846</td>\n",
       "      <td>-0.084994</td>\n",
       "      <td>-0.093252</td>\n",
       "      <td>-0.086687</td>\n",
       "      <td>-0.090009</td>\n",
       "      <td>1.000000</td>\n",
       "      <td>-0.083277</td>\n",
       "      <td>-0.088359</td>\n",
       "      <td>-0.091640</td>\n",
       "      <td>-0.118597</td>\n",
       "      <td>0.079460</td>\n",
       "    </tr>\n",
       "    <tr>\n",
       "      <th>Year_2016</th>\n",
       "      <td>0.094322</td>\n",
       "      <td>0.087222</td>\n",
       "      <td>0.073025</td>\n",
       "      <td>-0.091115</td>\n",
       "      <td>-0.081650</td>\n",
       "      <td>-0.089583</td>\n",
       "      <td>-0.083277</td>\n",
       "      <td>-0.086468</td>\n",
       "      <td>-0.083277</td>\n",
       "      <td>1.000000</td>\n",
       "      <td>-0.084882</td>\n",
       "      <td>-0.088034</td>\n",
       "      <td>-0.113930</td>\n",
       "      <td>0.062292</td>\n",
       "    </tr>\n",
       "    <tr>\n",
       "      <th>Year_2017</th>\n",
       "      <td>0.006199</td>\n",
       "      <td>0.007584</td>\n",
       "      <td>-0.022588</td>\n",
       "      <td>-0.096675</td>\n",
       "      <td>-0.086632</td>\n",
       "      <td>-0.095050</td>\n",
       "      <td>-0.088359</td>\n",
       "      <td>-0.091744</td>\n",
       "      <td>-0.088359</td>\n",
       "      <td>-0.084882</td>\n",
       "      <td>1.000000</td>\n",
       "      <td>-0.093406</td>\n",
       "      <td>-0.120883</td>\n",
       "      <td>0.004558</td>\n",
       "    </tr>\n",
       "    <tr>\n",
       "      <th>Year_2018</th>\n",
       "      <td>0.009640</td>\n",
       "      <td>0.008385</td>\n",
       "      <td>-0.056030</td>\n",
       "      <td>-0.100265</td>\n",
       "      <td>-0.089849</td>\n",
       "      <td>-0.098579</td>\n",
       "      <td>-0.091640</td>\n",
       "      <td>-0.095151</td>\n",
       "      <td>-0.091640</td>\n",
       "      <td>-0.088034</td>\n",
       "      <td>-0.093406</td>\n",
       "      <td>1.000000</td>\n",
       "      <td>-0.125372</td>\n",
       "      <td>0.022801</td>\n",
       "    </tr>\n",
       "    <tr>\n",
       "      <th>Year_2019</th>\n",
       "      <td>0.245212</td>\n",
       "      <td>0.233142</td>\n",
       "      <td>-0.119752</td>\n",
       "      <td>-0.129759</td>\n",
       "      <td>-0.116280</td>\n",
       "      <td>-0.127578</td>\n",
       "      <td>-0.118597</td>\n",
       "      <td>-0.123141</td>\n",
       "      <td>-0.118597</td>\n",
       "      <td>-0.113930</td>\n",
       "      <td>-0.120883</td>\n",
       "      <td>-0.125372</td>\n",
       "      <td>1.000000</td>\n",
       "      <td>0.038560</td>\n",
       "    </tr>\n",
       "    <tr>\n",
       "      <th>Genre_Non Fiction</th>\n",
       "      <td>-0.026311</td>\n",
       "      <td>-0.280202</td>\n",
       "      <td>0.078967</td>\n",
       "      <td>0.020438</td>\n",
       "      <td>-0.057796</td>\n",
       "      <td>0.011663</td>\n",
       "      <td>-0.004993</td>\n",
       "      <td>-0.129409</td>\n",
       "      <td>0.079460</td>\n",
       "      <td>0.062292</td>\n",
       "      <td>0.004558</td>\n",
       "      <td>0.022801</td>\n",
       "      <td>0.038560</td>\n",
       "      <td>1.000000</td>\n",
       "    </tr>\n",
       "  </tbody>\n",
       "</table>\n",
       "</div>"
      ],
      "text/plain": [
       "                   User Rating   Reviews     Price  Year_2010  Year_2011  \\\n",
       "User Rating           1.000000 -0.056105 -0.025012  -0.094896  -0.115520   \n",
       "Reviews              -0.056105  1.000000 -0.040079  -0.184054  -0.125710   \n",
       "Price                -0.025012 -0.040079  1.000000  -0.036900   0.034367   \n",
       "Year_2010            -0.094896 -0.184054 -0.036900   1.000000  -0.092994   \n",
       "Year_2011            -0.115520 -0.125710  0.034367  -0.092994   1.000000   \n",
       "Year_2012            -0.087074  0.026473  0.063505  -0.102029  -0.091430   \n",
       "Year_2013            -0.090814 -0.011722 -0.034522  -0.094846  -0.084994   \n",
       "Year_2014            -0.043818  0.123683  0.127513  -0.098481  -0.088251   \n",
       "Year_2015             0.039234  0.001643 -0.100747  -0.094846  -0.084994   \n",
       "Year_2016             0.094322  0.087222  0.073025  -0.091115  -0.081650   \n",
       "Year_2017             0.006199  0.007584 -0.022588  -0.096675  -0.086632   \n",
       "Year_2018             0.009640  0.008385 -0.056030  -0.100265  -0.089849   \n",
       "Year_2019             0.245212  0.233142 -0.119752  -0.129759  -0.116280   \n",
       "Genre_Non Fiction    -0.026311 -0.280202  0.078967   0.020438  -0.057796   \n",
       "\n",
       "                   Year_2012  Year_2013  Year_2014  Year_2015  Year_2016  \\\n",
       "User Rating        -0.087074  -0.090814  -0.043818   0.039234   0.094322   \n",
       "Reviews             0.026473  -0.011722   0.123683   0.001643   0.087222   \n",
       "Price               0.063505  -0.034522   0.127513  -0.100747   0.073025   \n",
       "Year_2010          -0.102029  -0.094846  -0.098481  -0.094846  -0.091115   \n",
       "Year_2011          -0.091430  -0.084994  -0.088251  -0.084994  -0.081650   \n",
       "Year_2012           1.000000  -0.093252  -0.096825  -0.093252  -0.089583   \n",
       "Year_2013          -0.093252   1.000000  -0.090009  -0.086687  -0.083277   \n",
       "Year_2014          -0.096825  -0.090009   1.000000  -0.090009  -0.086468   \n",
       "Year_2015          -0.093252  -0.086687  -0.090009   1.000000  -0.083277   \n",
       "Year_2016          -0.089583  -0.083277  -0.086468  -0.083277   1.000000   \n",
       "Year_2017          -0.095050  -0.088359  -0.091744  -0.088359  -0.084882   \n",
       "Year_2018          -0.098579  -0.091640  -0.095151  -0.091640  -0.088034   \n",
       "Year_2019          -0.127578  -0.118597  -0.123141  -0.118597  -0.113930   \n",
       "Genre_Non Fiction   0.011663  -0.004993  -0.129409   0.079460   0.062292   \n",
       "\n",
       "                   Year_2017  Year_2018  Year_2019  Genre_Non Fiction  \n",
       "User Rating         0.006199   0.009640   0.245212          -0.026311  \n",
       "Reviews             0.007584   0.008385   0.233142          -0.280202  \n",
       "Price              -0.022588  -0.056030  -0.119752           0.078967  \n",
       "Year_2010          -0.096675  -0.100265  -0.129759           0.020438  \n",
       "Year_2011          -0.086632  -0.089849  -0.116280          -0.057796  \n",
       "Year_2012          -0.095050  -0.098579  -0.127578           0.011663  \n",
       "Year_2013          -0.088359  -0.091640  -0.118597          -0.004993  \n",
       "Year_2014          -0.091744  -0.095151  -0.123141          -0.129409  \n",
       "Year_2015          -0.088359  -0.091640  -0.118597           0.079460  \n",
       "Year_2016          -0.084882  -0.088034  -0.113930           0.062292  \n",
       "Year_2017           1.000000  -0.093406  -0.120883           0.004558  \n",
       "Year_2018          -0.093406   1.000000  -0.125372           0.022801  \n",
       "Year_2019          -0.120883  -0.125372   1.000000           0.038560  \n",
       "Genre_Non Fiction   0.004558   0.022801   0.038560           1.000000  "
      ]
     },
     "execution_count": 62,
     "metadata": {},
     "output_type": "execute_result"
    }
   ],
   "source": [
    "book.corr()"
   ]
  },
  {
   "cell_type": "code",
   "execution_count": 63,
   "metadata": {
    "execution": {
     "iopub.execute_input": "2021-02-11T07:06:50.984102Z",
     "iopub.status.busy": "2021-02-11T07:06:50.980724Z",
     "iopub.status.idle": "2021-02-11T07:06:52.554417Z",
     "shell.execute_reply": "2021-02-11T07:06:52.553582Z"
    },
    "papermill": {
     "duration": 1.637959,
     "end_time": "2021-02-11T07:06:52.554579",
     "exception": false,
     "start_time": "2021-02-11T07:06:50.916620",
     "status": "completed"
    },
    "tags": []
   },
   "outputs": [
    {
     "data": {
      "text/plain": [
       "<AxesSubplot:>"
      ]
     },
     "execution_count": 63,
     "metadata": {},
     "output_type": "execute_result"
    },
    {
     "data": {
      "image/png": "[encoded data removed]",
      "text/plain": [
       "<Figure size 1152x864 with 2 Axes>"
      ]
     },
     "metadata": {
      "needs_background": "light"
     },
     "output_type": "display_data"
    }
   ],
   "source": [
    "fig, ax = plt.subplots(figsize=(16, 12))\n",
    "sns.heatmap(book.corr(),annot=True,ax=ax)"
   ]
  },
  {
   "cell_type": "code",
   "execution_count": 64,
   "metadata": {
    "execution": {
     "iopub.execute_input": "2021-02-11T07:06:52.651822Z",
     "iopub.status.busy": "2021-02-11T07:06:52.651091Z",
     "iopub.status.idle": "2021-02-11T07:06:52.655197Z",
     "shell.execute_reply": "2021-02-11T07:06:52.655709Z"
    },
    "papermill": {
     "duration": 0.055125,
     "end_time": "2021-02-11T07:06:52.655897",
     "exception": false,
     "start_time": "2021-02-11T07:06:52.600772",
     "status": "completed"
    },
    "tags": []
   },
   "outputs": [
    {
     "data": {
      "text/plain": [
       "Index(['Name', 'Author', 'User Rating', 'Reviews', 'Price', 'Year_2010',\n",
       "       'Year_2011', 'Year_2012', 'Year_2013', 'Year_2014', 'Year_2015',\n",
       "       'Year_2016', 'Year_2017', 'Year_2018', 'Year_2019',\n",
       "       'Genre_Non Fiction'],\n",
       "      dtype='object')"
      ]
     },
     "execution_count": 64,
     "metadata": {},
     "output_type": "execute_result"
    }
   ],
   "source": [
    "book.columns"
   ]
  },
  {
   "cell_type": "markdown",
   "metadata": {
    "papermill": {
     "duration": 0.04665,
     "end_time": "2021-02-11T07:06:52.747276",
     "exception": false,
     "start_time": "2021-02-11T07:06:52.700626",
     "status": "completed"
    },
    "tags": []
   },
   "source": [
    "# **Remove Outliers**# "
   ]
  },
  {
   "cell_type": "code",
   "execution_count": 65,
   "metadata": {
    "execution": {
     "iopub.execute_input": "2021-02-11T07:06:52.868023Z",
     "iopub.status.busy": "2021-02-11T07:06:52.867308Z",
     "iopub.status.idle": "2021-02-11T07:06:53.145746Z",
     "shell.execute_reply": "2021-02-11T07:06:53.144846Z"
    },
    "papermill": {
     "duration": 0.352963,
     "end_time": "2021-02-11T07:06:53.145920",
     "exception": false,
     "start_time": "2021-02-11T07:06:52.792957",
     "status": "completed"
    },
    "tags": []
   },
   "outputs": [
    {
     "data": {
      "image/png": "[encoded data removed]",
      "text/plain": [
       "<Figure size 432x288 with 1 Axes>"
      ]
     },
     "metadata": {
      "needs_background": "light"
     },
     "output_type": "display_data"
    }
   ],
   "source": [
    "plt.hist(book['Reviews'], bins=100)\n",
    "outlier_limit = (book['Reviews'].mean() + 3*book['Reviews'].std())\n",
    "plt.axvline(x=outlier_limit, color='r')\n",
    "plt.show()"
   ]
  },
  {
   "cell_type": "code",
   "execution_count": 66,
   "metadata": {
    "execution": {
     "iopub.execute_input": "2021-02-11T07:06:53.247494Z",
     "iopub.status.busy": "2021-02-11T07:06:53.246736Z",
     "iopub.status.idle": "2021-02-11T07:06:53.250890Z",
     "shell.execute_reply": "2021-02-11T07:06:53.250214Z"
    },
    "papermill": {
     "duration": 0.057522,
     "end_time": "2021-02-11T07:06:53.251050",
     "exception": false,
     "start_time": "2021-02-11T07:06:53.193528",
     "status": "completed"
    },
    "tags": []
   },
   "outputs": [],
   "source": [
    "book = book[book['Reviews'] <= outlier_limit]"
   ]
  },
  {
   "cell_type": "markdown",
   "metadata": {
    "papermill": {
     "duration": 0.045223,
     "end_time": "2021-02-11T07:06:53.342238",
     "exception": false,
     "start_time": "2021-02-11T07:06:53.297015",
     "status": "completed"
    },
    "tags": []
   },
   "source": [
    "# **Linear Regression**# "
   ]
  },
  {
   "cell_type": "code",
   "execution_count": 67,
   "metadata": {
    "execution": {
     "iopub.execute_input": "2021-02-11T07:06:53.444053Z",
     "iopub.status.busy": "2021-02-11T07:06:53.443325Z",
     "iopub.status.idle": "2021-02-11T07:06:53.447366Z",
     "shell.execute_reply": "2021-02-11T07:06:53.446689Z"
    },
    "papermill": {
     "duration": 0.056895,
     "end_time": "2021-02-11T07:06:53.447519",
     "exception": false,
     "start_time": "2021-02-11T07:06:53.390624",
     "status": "completed"
    },
    "tags": []
   },
   "outputs": [],
   "source": [
    "z = ['Year_2010',\n",
    "       'Year_2011', 'Year_2012', 'Year_2013', 'Year_2014', 'Year_2015',\n",
    "       'Year_2016', 'Year_2017', 'Year_2018', 'Year_2019',\n",
    "       'Genre_Non Fiction']\n",
    "t = ['Reviews', 'Price', 'Year_2010']\n",
    "y = book['User Rating'].values.reshape(-1,1)"
   ]
  },
  {
   "cell_type": "code",
   "execution_count": 68,
   "metadata": {
    "execution": {
     "iopub.execute_input": "2021-02-11T07:06:53.548183Z",
     "iopub.status.busy": "2021-02-11T07:06:53.547348Z",
     "iopub.status.idle": "2021-02-11T07:06:54.213086Z",
     "shell.execute_reply": "2021-02-11T07:06:54.211413Z"
    },
    "papermill": {
     "duration": 0.719694,
     "end_time": "2021-02-11T07:06:54.213275",
     "exception": false,
     "start_time": "2021-02-11T07:06:53.493581",
     "status": "completed"
    },
    "tags": []
   },
   "outputs": [
    {
     "name": "stdout",
     "output_type": "stream",
     "text": [
      "-0.023312790250984206\n",
      "0.013595745056832254\n",
      "0.015512820666102045\n",
      "0.02780148074275346\n",
      "0.019785692421840917\n",
      "0.01727007166602812\n",
      "0.010440690340733583\n",
      "0.014406242910209754\n",
      "-0.07301565138570609\n",
      "-0.022537005357379902\n",
      "0.005765687404768571\n"
     ]
    }
   ],
   "source": [
    "from sklearn.model_selection import train_test_split\n",
    "from sklearn.linear_model import LinearRegression\n",
    "for v in z:\n",
    "    t.append(v)\n",
    "    X = book[t]\n",
    "    reg = LinearRegression()\n",
    "    X_train, X_test, y_train, y_test = train_test_split(X, y, test_size=0.3, random_state=1)\n",
    "    reg.fit(X_train, y_train)\n",
    "    y_pred = reg.predict(X_test)\n",
    "    y_pred_train = reg.predict(X_train)\n",
    "    R_squared = reg.score(X_test, y_test)\n",
    "    print(R_squared)"
   ]
  },
  {
   "cell_type": "markdown",
   "metadata": {
    "papermill": {
     "duration": 0.046279,
     "end_time": "2021-02-11T07:06:54.308908",
     "exception": false,
     "start_time": "2021-02-11T07:06:54.262629",
     "status": "completed"
    },
    "tags": []
   },
   "source": [
    "# **Decision Tree: To predict Genre**# "
   ]
  },
  {
   "cell_type": "code",
   "execution_count": 30,
   "metadata": {},
   "outputs": [
    {
     "data": {
      "text/plain": [
       "0      Non Fiction\n",
       "1          Fiction\n",
       "2      Non Fiction\n",
       "3          Fiction\n",
       "4      Non Fiction\n",
       "          ...     \n",
       "538        Fiction\n",
       "539    Non Fiction\n",
       "544        Fiction\n",
       "545        Fiction\n",
       "549    Non Fiction\n",
       "Name: Genre, Length: 351, dtype: object"
      ]
     },
     "execution_count": 30,
     "metadata": {},
     "output_type": "execute_result"
    }
   ],
   "source": [
    "book_for_tree['Genre']"
   ]
  },
  {
   "cell_type": "code",
   "execution_count": 34,
   "metadata": {},
   "outputs": [
    {
     "name": "stdout",
     "output_type": "stream",
     "text": [
      "<class 'pandas.core.frame.DataFrame'>\n",
      "Int64Index: 351 entries, 0 to 549\n",
      "Data columns (total 8 columns):\n",
      " #   Column       Non-Null Count  Dtype  \n",
      "---  ------       --------------  -----  \n",
      " 0   Name         351 non-null    object \n",
      " 1   Author       351 non-null    object \n",
      " 2   User Rating  351 non-null    float64\n",
      " 3   Reviews      351 non-null    int64  \n",
      " 4   Price        351 non-null    int64  \n",
      " 5   Year         351 non-null    int64  \n",
      " 6   Genre        351 non-null    object \n",
      " 7   is_fiction   351 non-null    int64  \n",
      "dtypes: float64(1), int64(4), object(3)\n",
      "memory usage: 24.7+ KB\n"
     ]
    }
   ],
   "source": [
    "book_for_tree['is_fiction'] = book_for_tree['Genre'].map({'Non Fiction':1,'Fiction':0 })\n",
    "book_for_tree.info()"
   ]
  },
  {
   "cell_type": "code",
   "execution_count": 35,
   "metadata": {
    "execution": {
     "iopub.execute_input": "2021-02-11T07:06:54.411362Z",
     "iopub.status.busy": "2021-02-11T07:06:54.410648Z",
     "iopub.status.idle": "2021-02-11T07:06:54.526065Z",
     "shell.execute_reply": "2021-02-11T07:06:54.526697Z"
    },
    "papermill": {
     "duration": 0.171046,
     "end_time": "2021-02-11T07:06:54.526921",
     "exception": false,
     "start_time": "2021-02-11T07:06:54.355875",
     "status": "completed"
    },
    "tags": []
   },
   "outputs": [],
   "source": [
    "X1 = np.array(book_for_tree[['Price', 'Year', 'User Rating']])\n",
    "\n",
    "y1 = np.array(book_for_tree[['is_fiction']])\n",
    "from sklearn import tree\n",
    "\n",
    "tree = tree.DecisionTreeClassifier(max_depth=4)\n",
    "tree = tree.fit(X1, y1)"
   ]
  },
  {
   "cell_type": "code",
   "execution_count": 76,
   "metadata": {
    "execution": {
     "iopub.execute_input": "2021-02-11T07:06:54.627691Z",
     "iopub.status.busy": "2021-02-11T07:06:54.627000Z",
     "iopub.status.idle": "2021-02-11T07:06:54.630393Z",
     "shell.execute_reply": "2021-02-11T07:06:54.630904Z"
    },
    "papermill": {
     "duration": 0.055519,
     "end_time": "2021-02-11T07:06:54.631105",
     "exception": false,
     "start_time": "2021-02-11T07:06:54.575586",
     "status": "completed"
    },
    "tags": []
   },
   "outputs": [],
   "source": [
    "X1_train, X1_test, y1_train, y1_test = train_test_split(X1, y1, test_size=0.30, random_state = 1) "
   ]
  },
  {
   "cell_type": "code",
   "execution_count": 77,
   "metadata": {},
   "outputs": [
    {
     "name": "stderr",
     "output_type": "stream",
     "text": [
      "c:\\users\\skudt\\appdata\\local\\programs\\python\\python38\\lib\\site-packages\\sklearn\\utils\\validation.py:63: DataConversionWarning: A column-vector y was passed when a 1d array was expected. Please change the shape of y to (n_samples, ), for example using ravel().\n",
      "  return f(*args, **kwargs)\n"
     ]
    },
    {
     "data": {
      "text/plain": [
       "0.5471698113207547"
      ]
     },
     "execution_count": 77,
     "metadata": {},
     "output_type": "execute_result"
    }
   ],
   "source": [
    "from sklearn.linear_model import LogisticRegression\n",
    "\n",
    "model = LogisticRegression()\n",
    "model.fit(X1_train, y1_train)\n",
    "model.predict(X1_test)\n",
    "model.score(X1_test, y1_test)"
   ]
  },
  {
   "cell_type": "code",
   "execution_count": 78,
   "metadata": {
    "execution": {
     "iopub.execute_input": "2021-02-11T07:06:54.728008Z",
     "iopub.status.busy": "2021-02-11T07:06:54.727241Z",
     "iopub.status.idle": "2021-02-11T07:06:54.736446Z",
     "shell.execute_reply": "2021-02-11T07:06:54.735758Z"
    },
    "papermill": {
     "duration": 0.059069,
     "end_time": "2021-02-11T07:06:54.736607",
     "exception": false,
     "start_time": "2021-02-11T07:06:54.677538",
     "status": "completed"
    },
    "tags": []
   },
   "outputs": [
    {
     "data": {
      "text/plain": [
       "0.6723646723646723"
      ]
     },
     "execution_count": 78,
     "metadata": {},
     "output_type": "execute_result"
    }
   ],
   "source": [
    "tree.score(X1, y1)"
   ]
  },
  {
   "cell_type": "code",
   "execution_count": 79,
   "metadata": {
    "execution": {
     "iopub.execute_input": "2021-02-11T07:06:54.839695Z",
     "iopub.status.busy": "2021-02-11T07:06:54.838618Z",
     "iopub.status.idle": "2021-02-11T07:06:54.844592Z",
     "shell.execute_reply": "2021-02-11T07:06:54.843850Z"
    },
    "papermill": {
     "duration": 0.059319,
     "end_time": "2021-02-11T07:06:54.844765",
     "exception": false,
     "start_time": "2021-02-11T07:06:54.785446",
     "status": "completed"
    },
    "tags": []
   },
   "outputs": [
    {
     "data": {
      "text/plain": [
       "array([1, 1, 0, 1, 0, 0, 0, 1, 0, 0, 0, 1, 0, 1, 0, 1, 0, 0, 0, 1, 0, 0,\n",
       "       1, 1, 1, 0, 1, 0, 1, 0, 0, 1, 0, 1, 1, 0, 0, 1, 1, 0, 0, 0, 1, 1,\n",
       "       1, 1, 0, 1, 1, 1, 0, 1, 0, 1, 1, 1, 0, 1, 1, 0, 1, 0, 0, 0, 1, 1,\n",
       "       1, 1, 1, 0, 1, 1, 1, 1, 1, 0, 0, 0, 1, 0, 0, 1, 0, 1, 0, 1, 0, 1,\n",
       "       0, 0, 1, 0, 1, 0, 1, 1, 1, 0, 1, 0, 0, 0, 0, 0, 1, 1], dtype=int64)"
      ]
     },
     "execution_count": 79,
     "metadata": {},
     "output_type": "execute_result"
    }
   ],
   "source": [
    "y1_pred = tree.predict(X1_test)\n",
    "y1_pred"
   ]
  },
  {
   "cell_type": "markdown",
   "metadata": {
    "papermill": {
     "duration": 0.048782,
     "end_time": "2021-02-11T07:06:54.942322",
     "exception": false,
     "start_time": "2021-02-11T07:06:54.893540",
     "status": "completed"
    },
    "tags": []
   },
   "source": [
    "***More EDA***"
   ]
  },
  {
   "cell_type": "code",
   "execution_count": 80,
   "metadata": {
    "execution": {
     "iopub.execute_input": "2021-02-11T07:06:55.062175Z",
     "iopub.status.busy": "2021-02-11T07:06:55.061114Z",
     "iopub.status.idle": "2021-02-11T07:06:55.408383Z",
     "shell.execute_reply": "2021-02-11T07:06:55.408891Z"
    },
    "papermill": {
     "duration": 0.41945,
     "end_time": "2021-02-11T07:06:55.409074",
     "exception": false,
     "start_time": "2021-02-11T07:06:54.989624",
     "status": "completed"
    },
    "tags": []
   },
   "outputs": [
    {
     "data": {
      "image/png": "[encoded data removed]",
      "text/plain": [
       "<Figure size 1152x288 with 1 Axes>"
      ]
     },
     "metadata": {
      "needs_background": "light"
     },
     "output_type": "display_data"
    }
   ],
   "source": [
    "plt.figure(figsize=(16,4))\n",
    "book.boxplot()\n",
    "plt.show()"
   ]
  },
  {
   "cell_type": "code",
   "execution_count": 81,
   "metadata": {
    "execution": {
     "iopub.execute_input": "2021-02-11T07:06:55.518548Z",
     "iopub.status.busy": "2021-02-11T07:06:55.517904Z",
     "iopub.status.idle": "2021-02-11T07:06:55.569112Z",
     "shell.execute_reply": "2021-02-11T07:06:55.568203Z"
    },
    "papermill": {
     "duration": 0.111642,
     "end_time": "2021-02-11T07:06:55.569352",
     "exception": false,
     "start_time": "2021-02-11T07:06:55.457710",
     "status": "completed"
    },
    "tags": []
   },
   "outputs": [
    {
     "data": {
      "text/html": [
       "<div>\n",
       "<style scoped>\n",
       "    .dataframe tbody tr th:only-of-type {\n",
       "        vertical-align: middle;\n",
       "    }\n",
       "\n",
       "    .dataframe tbody tr th {\n",
       "        vertical-align: top;\n",
       "    }\n",
       "\n",
       "    .dataframe thead th {\n",
       "        text-align: right;\n",
       "    }\n",
       "</style>\n",
       "<table border=\"1\" class=\"dataframe\">\n",
       "  <thead>\n",
       "    <tr style=\"text-align: right;\">\n",
       "      <th></th>\n",
       "      <th>User Rating</th>\n",
       "      <th>Reviews</th>\n",
       "      <th>Price</th>\n",
       "      <th>Year_2010</th>\n",
       "      <th>Year_2011</th>\n",
       "      <th>Year_2012</th>\n",
       "      <th>Year_2013</th>\n",
       "      <th>Year_2014</th>\n",
       "      <th>Year_2015</th>\n",
       "      <th>Year_2016</th>\n",
       "      <th>Year_2017</th>\n",
       "      <th>Year_2018</th>\n",
       "      <th>Year_2019</th>\n",
       "      <th>Genre_Non Fiction</th>\n",
       "    </tr>\n",
       "  </thead>\n",
       "  <tbody>\n",
       "    <tr>\n",
       "      <th>count</th>\n",
       "      <td>344.000000</td>\n",
       "      <td>344.000000</td>\n",
       "      <td>344.000000</td>\n",
       "      <td>344.000000</td>\n",
       "      <td>344.000000</td>\n",
       "      <td>344.000000</td>\n",
       "      <td>344.000000</td>\n",
       "      <td>344.000000</td>\n",
       "      <td>344.000000</td>\n",
       "      <td>344.000000</td>\n",
       "      <td>344.000000</td>\n",
       "      <td>344.000000</td>\n",
       "      <td>344.000000</td>\n",
       "      <td>344.000000</td>\n",
       "    </tr>\n",
       "    <tr>\n",
       "      <th>mean</th>\n",
       "      <td>4.612791</td>\n",
       "      <td>8727.799419</td>\n",
       "      <td>13.026163</td>\n",
       "      <td>0.095930</td>\n",
       "      <td>0.078488</td>\n",
       "      <td>0.093023</td>\n",
       "      <td>0.078488</td>\n",
       "      <td>0.081395</td>\n",
       "      <td>0.081395</td>\n",
       "      <td>0.069767</td>\n",
       "      <td>0.084302</td>\n",
       "      <td>0.090116</td>\n",
       "      <td>0.136628</td>\n",
       "      <td>0.552326</td>\n",
       "    </tr>\n",
       "    <tr>\n",
       "      <th>std</th>\n",
       "      <td>0.219884</td>\n",
       "      <td>7739.906658</td>\n",
       "      <td>10.109714</td>\n",
       "      <td>0.294925</td>\n",
       "      <td>0.269330</td>\n",
       "      <td>0.290888</td>\n",
       "      <td>0.269330</td>\n",
       "      <td>0.273840</td>\n",
       "      <td>0.273840</td>\n",
       "      <td>0.255126</td>\n",
       "      <td>0.278245</td>\n",
       "      <td>0.286765</td>\n",
       "      <td>0.343954</td>\n",
       "      <td>0.497979</td>\n",
       "    </tr>\n",
       "    <tr>\n",
       "      <th>min</th>\n",
       "      <td>3.300000</td>\n",
       "      <td>37.000000</td>\n",
       "      <td>0.000000</td>\n",
       "      <td>0.000000</td>\n",
       "      <td>0.000000</td>\n",
       "      <td>0.000000</td>\n",
       "      <td>0.000000</td>\n",
       "      <td>0.000000</td>\n",
       "      <td>0.000000</td>\n",
       "      <td>0.000000</td>\n",
       "      <td>0.000000</td>\n",
       "      <td>0.000000</td>\n",
       "      <td>0.000000</td>\n",
       "      <td>0.000000</td>\n",
       "    </tr>\n",
       "    <tr>\n",
       "      <th>25%</th>\n",
       "      <td>4.500000</td>\n",
       "      <td>3335.500000</td>\n",
       "      <td>7.750000</td>\n",
       "      <td>0.000000</td>\n",
       "      <td>0.000000</td>\n",
       "      <td>0.000000</td>\n",
       "      <td>0.000000</td>\n",
       "      <td>0.000000</td>\n",
       "      <td>0.000000</td>\n",
       "      <td>0.000000</td>\n",
       "      <td>0.000000</td>\n",
       "      <td>0.000000</td>\n",
       "      <td>0.000000</td>\n",
       "      <td>0.000000</td>\n",
       "    </tr>\n",
       "    <tr>\n",
       "      <th>50%</th>\n",
       "      <td>4.600000</td>\n",
       "      <td>6169.000000</td>\n",
       "      <td>11.000000</td>\n",
       "      <td>0.000000</td>\n",
       "      <td>0.000000</td>\n",
       "      <td>0.000000</td>\n",
       "      <td>0.000000</td>\n",
       "      <td>0.000000</td>\n",
       "      <td>0.000000</td>\n",
       "      <td>0.000000</td>\n",
       "      <td>0.000000</td>\n",
       "      <td>0.000000</td>\n",
       "      <td>0.000000</td>\n",
       "      <td>1.000000</td>\n",
       "    </tr>\n",
       "    <tr>\n",
       "      <th>75%</th>\n",
       "      <td>4.800000</td>\n",
       "      <td>10953.750000</td>\n",
       "      <td>16.000000</td>\n",
       "      <td>0.000000</td>\n",
       "      <td>0.000000</td>\n",
       "      <td>0.000000</td>\n",
       "      <td>0.000000</td>\n",
       "      <td>0.000000</td>\n",
       "      <td>0.000000</td>\n",
       "      <td>0.000000</td>\n",
       "      <td>0.000000</td>\n",
       "      <td>0.000000</td>\n",
       "      <td>0.000000</td>\n",
       "      <td>1.000000</td>\n",
       "    </tr>\n",
       "    <tr>\n",
       "      <th>max</th>\n",
       "      <td>4.900000</td>\n",
       "      <td>39459.000000</td>\n",
       "      <td>105.000000</td>\n",
       "      <td>1.000000</td>\n",
       "      <td>1.000000</td>\n",
       "      <td>1.000000</td>\n",
       "      <td>1.000000</td>\n",
       "      <td>1.000000</td>\n",
       "      <td>1.000000</td>\n",
       "      <td>1.000000</td>\n",
       "      <td>1.000000</td>\n",
       "      <td>1.000000</td>\n",
       "      <td>1.000000</td>\n",
       "      <td>1.000000</td>\n",
       "    </tr>\n",
       "  </tbody>\n",
       "</table>\n",
       "</div>"
      ],
      "text/plain": [
       "       User Rating       Reviews       Price   Year_2010   Year_2011  \\\n",
       "count   344.000000    344.000000  344.000000  344.000000  344.000000   \n",
       "mean      4.612791   8727.799419   13.026163    0.095930    0.078488   \n",
       "std       0.219884   7739.906658   10.109714    0.294925    0.269330   \n",
       "min       3.300000     37.000000    0.000000    0.000000    0.000000   \n",
       "25%       4.500000   3335.500000    7.750000    0.000000    0.000000   \n",
       "50%       4.600000   6169.000000   11.000000    0.000000    0.000000   \n",
       "75%       4.800000  10953.750000   16.000000    0.000000    0.000000   \n",
       "max       4.900000  39459.000000  105.000000    1.000000    1.000000   \n",
       "\n",
       "        Year_2012   Year_2013   Year_2014   Year_2015   Year_2016   Year_2017  \\\n",
       "count  344.000000  344.000000  344.000000  344.000000  344.000000  344.000000   \n",
       "mean     0.093023    0.078488    0.081395    0.081395    0.069767    0.084302   \n",
       "std      0.290888    0.269330    0.273840    0.273840    0.255126    0.278245   \n",
       "min      0.000000    0.000000    0.000000    0.000000    0.000000    0.000000   \n",
       "25%      0.000000    0.000000    0.000000    0.000000    0.000000    0.000000   \n",
       "50%      0.000000    0.000000    0.000000    0.000000    0.000000    0.000000   \n",
       "75%      0.000000    0.000000    0.000000    0.000000    0.000000    0.000000   \n",
       "max      1.000000    1.000000    1.000000    1.000000    1.000000    1.000000   \n",
       "\n",
       "        Year_2018   Year_2019  Genre_Non Fiction  \n",
       "count  344.000000  344.000000         344.000000  \n",
       "mean     0.090116    0.136628           0.552326  \n",
       "std      0.286765    0.343954           0.497979  \n",
       "min      0.000000    0.000000           0.000000  \n",
       "25%      0.000000    0.000000           0.000000  \n",
       "50%      0.000000    0.000000           1.000000  \n",
       "75%      0.000000    0.000000           1.000000  \n",
       "max      1.000000    1.000000           1.000000  "
      ]
     },
     "execution_count": 81,
     "metadata": {},
     "output_type": "execute_result"
    }
   ],
   "source": [
    "book.describe()"
   ]
  },
  {
   "cell_type": "code",
   "execution_count": null,
   "metadata": {},
   "outputs": [],
   "source": []
  },
  {
   "cell_type": "code",
   "execution_count": null,
   "metadata": {},
   "outputs": [],
   "source": []
  },
  {
   "cell_type": "code",
   "execution_count": null,
   "metadata": {},
   "outputs": [],
   "source": []
  }
 ],
 "metadata": {
  "kernelspec": {
   "display_name": "Python 3",
   "language": "python",
   "name": "python3"
  },
  "language_info": {
   "codemirror_mode": {
    "name": "ipython",
    "version": 3
   },
   "file_extension": ".py",
   "mimetype": "text/x-python",
   "name": "python",
   "nbconvert_exporter": "python",
   "pygments_lexer": "ipython3",
   "version": "3.8.7"
  },
  "papermill": {
   "default_parameters": {},
   "duration": 24.204176,
   "end_time": "2021-02-11T07:06:56.532503",
   "environment_variables": {},
   "exception": null,
   "input_path": "__notebook__.ipynb",
   "output_path": "__notebook__.ipynb",
   "parameters": {},
   "start_time": "2021-02-11T07:06:32.328327",
   "version": "2.2.2"
  },
  "varInspector": {
   "cols": {
    "lenName": 16,
    "lenType": 16,
    "lenVar": 40
   },
   "kernels_config": {
    "python": {
     "delete_cmd_postfix": "",
     "delete_cmd_prefix": "del ",
     "library": "var_list.py",
     "varRefreshCmd": "print(var_dic_list())"
    },
    "r": {
     "delete_cmd_postfix": ") ",
     "delete_cmd_prefix": "rm(",
     "library": "var_list.r",
     "varRefreshCmd": "cat(var_dic_list()) "
    }
   },
   "types_to_exclude": [
    "module",
    "function",
    "builtin_function_or_method",
    "instance",
    "_Feature"
   ],
   "window_display": false
  }
 },
 "nbformat": 4,
 "nbformat_minor": 4
}
